{
 "cells": [
  {
   "cell_type": "code",
   "execution_count": 1,
   "id": "c7b9a310",
   "metadata": {},
   "outputs": [],
   "source": [
    "import pandas as pd\n"
   ]
  },
  {
   "cell_type": "code",
   "execution_count": 25,
   "id": "2c99231d",
   "metadata": {},
   "outputs": [],
   "source": [
    "df = pd.read_csv('actors.csv')"
   ]
  },
  {
   "cell_type": "code",
   "execution_count": 35,
   "id": "77b365bb",
   "metadata": {},
   "outputs": [
    {
     "data": {
      "text/plain": [
       "19    Robert DeNiro\n",
       "Name: Actor, dtype: object"
      ]
     },
     "execution_count": 35,
     "metadata": {},
     "output_type": "execute_result"
    }
   ],
   "source": [
    "#1Identifique o ator/atriz com maior número de filmes e o respectivo número de filmes.\n",
    "\n",
    "df['Actor'][df['Number of Movies'] == df['Number of Movies'].max()]"
   ]
  },
  {
   "cell_type": "code",
   "execution_count": 36,
   "id": "223c43cb",
   "metadata": {},
   "outputs": [
    {
     "data": {
      "text/plain": [
       "37.88"
      ]
     },
     "execution_count": 36,
     "metadata": {},
     "output_type": "execute_result"
    }
   ],
   "source": [
    "df['Number of Movies'].mean()"
   ]
  },
  {
   "cell_type": "code",
   "execution_count": 37,
   "id": "56e95d28",
   "metadata": {},
   "outputs": [
    {
     "data": {
      "text/plain": [
       "14    Anthony Daniels\n",
       "Name: Actor, dtype: object"
      ]
     },
     "execution_count": 37,
     "metadata": {},
     "output_type": "execute_result"
    }
   ],
   "source": [
    "df['Actor'][df['Average per Movie'] == df['Average per Movie'].max()]"
   ]
  },
  {
   "cell_type": "code",
   "execution_count": 48,
   "id": "a34358cf",
   "metadata": {},
   "outputs": [
    {
     "data": {
      "text/plain": [
       "#1 Movie\n",
       "The Avengers    6\n",
       "Name: count, dtype: int64"
      ]
     },
     "execution_count": 48,
     "metadata": {},
     "output_type": "execute_result"
    }
   ],
   "source": [
    "df['#1 Movie'].value_counts().head(1)"
   ]
  },
  {
   "cell_type": "code",
   "execution_count": null,
   "id": "28496adb",
   "metadata": {},
   "outputs": [],
   "source": []
  }
 ],
 "metadata": {
  "kernelspec": {
   "display_name": "Python 3 (ipykernel)",
   "language": "python",
   "name": "python3"
  },
  "language_info": {
   "codemirror_mode": {
    "name": "ipython",
    "version": 3
   },
   "file_extension": ".py",
   "mimetype": "text/x-python",
   "name": "python",
   "nbconvert_exporter": "python",
   "pygments_lexer": "ipython3",
   "version": "3.10.6"
  }
 },
 "nbformat": 4,
 "nbformat_minor": 5
}
