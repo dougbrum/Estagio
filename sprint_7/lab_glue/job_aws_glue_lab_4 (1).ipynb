{
	"metadata": {
		"toc-autonumbering": false,
		"toc-showcode": true,
		"toc-showmarkdowntxt": false,
		"toc-showtags": false,
		"kernelspec": {
			"display_name": "Glue PySpark",
			"language": "python",
			"name": "glue_pyspark"
		},
		"language_info": {
			"codemirror_mode": {
				"name": "python",
				"version": 3
			},
			"file_extension": ".py",
			"mimetype": "text/x-python",
			"name": "Python_Glue_Session",
			"pygments_lexer": "python3"
		}
	},
	"nbformat_minor": 4,
	"nbformat": 4,
	"cells": [
		{
			"cell_type": "code",
			"source": "import sys\nfrom awsglue.transforms import *\nfrom awsglue.utils import getResolvedOptions\nfrom pyspark.context import SparkContext\nfrom awsglue.context import GlueContext\nfrom awsglue.job import Job\n\nsc = SparkContext.getOrCreate()\nglueContext = GlueContext(sc)\nspark = glueContext.spark_session\njob = Job(glueContext)",
			"metadata": {
				"editable": true,
				"vscode": {
					"languageId": "python_glue_session"
				},
				"trusted": true
			},
			"execution_count": 1,
			"outputs": [
				{
					"name": "stdout",
					"text": "Welcome to the Glue Interactive Sessions Kernel\nFor more information on available magic commands, please type %help in any new cell.\n\nPlease view our Getting Started page to access the most up-to-date information on the Interactive Sessions kernel: https://docs.aws.amazon.com/glue/latest/dg/interactive-sessions.html\nInstalled kernel version: 0.37.0 \nAuthenticating with environment variables and user-defined glue_role_arn: arn:aws:iam::320294666948:role/AWSGlueServiceRole-Lab4\nTrying to create a Glue session for the kernel.\nWorker Type: G.1X\nNumber of Workers: 5\nSession ID: 5ab0692c-c1d9-4e21-8de0-581d53128fc5\nJob Type: glueetl\nApplying the following default arguments:\n--glue_kernel_version 0.37.0\n--enable-glue-datacatalog true\nWaiting for session 5ab0692c-c1d9-4e21-8de0-581d53128fc5 to get into ready status...\nSession 5ab0692c-c1d9-4e21-8de0-581d53128fc5 has been created.\n\n",
					"output_type": "stream"
				}
			]
		},
		{
			"cell_type": "markdown",
			"source": "\n- Na célula a seguir, adicione o código necessário para ler o conteúdo do arquivo _nomes.csv_ para um dataframe Spark.\n\n",
			"metadata": {}
		},
		{
			"cell_type": "code",
			"source": "# Adicione seu código aqui\n\ndf = spark.read.csv('s3://sprint7nomes/lab-glue/input/nomes.csv', header=True, inferSchema=True)\ndf.show()",
			"metadata": {
				"vscode": {
					"languageId": "python_glue_session"
				},
				"trusted": true
			},
			"execution_count": 31,
			"outputs": [
				{
					"name": "stdout",
					"text": "+---------+----+-----+----+\n|     nome|sexo|total| ano|\n+---------+----+-----+----+\n| Jennifer|   F|54336|1983|\n|  Jessica|   F|45278|1983|\n|   Amanda|   F|33752|1983|\n|   Ashley|   F|33292|1983|\n|    Sarah|   F|27228|1983|\n|  Melissa|   F|23472|1983|\n|   Nicole|   F|22392|1983|\n|Stephanie|   F|22323|1983|\n|  Heather|   F|20749|1983|\n|Elizabeth|   F|19838|1983|\n|  Crystal|   F|17904|1983|\n|      Amy|   F|17095|1983|\n| Michelle|   F|16828|1983|\n|  Tiffany|   F|15960|1983|\n| Kimberly|   F|15374|1983|\n|Christina|   F|15359|1983|\n|    Amber|   F|14886|1983|\n|     Erin|   F|14835|1983|\n|  Rebecca|   F|14711|1983|\n|   Rachel|   F|14588|1983|\n+---------+----+-----+----+\nonly showing top 20 rows\n",
					"output_type": "stream"
				}
			]
		},
		{
			"cell_type": "markdown",
			"source": "- Imprima o esquema do dataframe",
			"metadata": {}
		},
		{
			"cell_type": "code",
			"source": "# Adicione seu código aqui\ndf.printSchema()",
			"metadata": {
				"vscode": {
					"languageId": "python_glue_session"
				},
				"trusted": true
			},
			"execution_count": 32,
			"outputs": [
				{
					"name": "stdout",
					"text": "root\n |-- nome: string (nullable = true)\n |-- sexo: string (nullable = true)\n |-- total: integer (nullable = true)\n |-- ano: integer (nullable = true)\n",
					"output_type": "stream"
				}
			]
		},
		{
			"cell_type": "markdown",
			"source": "- Na próxima célula, escreva o código necessário para alterar a caixa dos valores da coluna _nome_ para MAIÚSCULO\n",
			"metadata": {}
		},
		{
			"cell_type": "code",
			"source": "# Adicione seu código aqui\nfrom pyspark.sql.functions import upper\n#df = spark.read.csv('s3://sprint7nomes/lab-glue/input/nomes.csv', header=True, inferSchema=True)\ndf = df.withColumn(\"nome\", upper(df['nome']))\ndf.show()",
			"metadata": {
				"vscode": {
					"languageId": "python_glue_session"
				},
				"trusted": true
			},
			"execution_count": 33,
			"outputs": [
				{
					"name": "stdout",
					"text": "+---------+----+-----+----+\n|     nome|sexo|total| ano|\n+---------+----+-----+----+\n| JENNIFER|   F|54336|1983|\n|  JESSICA|   F|45278|1983|\n|   AMANDA|   F|33752|1983|\n|   ASHLEY|   F|33292|1983|\n|    SARAH|   F|27228|1983|\n|  MELISSA|   F|23472|1983|\n|   NICOLE|   F|22392|1983|\n|STEPHANIE|   F|22323|1983|\n|  HEATHER|   F|20749|1983|\n|ELIZABETH|   F|19838|1983|\n|  CRYSTAL|   F|17904|1983|\n|      AMY|   F|17095|1983|\n| MICHELLE|   F|16828|1983|\n|  TIFFANY|   F|15960|1983|\n| KIMBERLY|   F|15374|1983|\n|CHRISTINA|   F|15359|1983|\n|    AMBER|   F|14886|1983|\n|     ERIN|   F|14835|1983|\n|  REBECCA|   F|14711|1983|\n|   RACHEL|   F|14588|1983|\n+---------+----+-----+----+\nonly showing top 20 rows\n",
					"output_type": "stream"
				}
			]
		},
		{
			"cell_type": "markdown",
			"source": "- Apresente a contagem de linhas contidas no dataframe",
			"metadata": {}
		},
		{
			"cell_type": "code",
			"source": "# Adicione seu código aqui\ncontagem = df.count()\nprint(contagem)",
			"metadata": {
				"vscode": {
					"languageId": "python_glue_session"
				},
				"trusted": true
			},
			"execution_count": 34,
			"outputs": [
				{
					"name": "stdout",
					"text": "1825433\n",
					"output_type": "stream"
				}
			]
		},
		{
			"cell_type": "markdown",
			"source": "- Agora, apresente a contagem de nomes, agrupando os dados do dataframe pelas colunas _ano_ e _sexo_. Ordene os dados de modo que o ano mais recente aparece como primeiro registro do dataframe.",
			"metadata": {}
		},
		{
			"cell_type": "code",
			"source": "# Adicione seu código aqui\nfrom pyspark.sql.functions import col\ncontagem_nomes = df.groupBy(\"ano\", \"sexo\").agg({\"nome\": \"count\"})\ncontagem_nomes = contagem_nomes.orderBy(col(\"ano\").desc())\nname_counts.show()",
			"metadata": {
				"vscode": {
					"languageId": "python_glue_session"
				},
				"trusted": true
			},
			"execution_count": 35,
			"outputs": [
				{
					"name": "stdout",
					"text": "+----+----+-----------+\n| ano|sexo|count(nome)|\n+----+----+-----------+\n|2014|   M|      13977|\n|2014|   F|      19067|\n|2013|   M|      14012|\n|2013|   F|      19191|\n|2012|   M|      14216|\n|2012|   F|      19468|\n|2011|   M|      14329|\n|2011|   F|      19540|\n|2010|   M|      14241|\n|2010|   F|      19800|\n|2009|   F|      20165|\n|2009|   M|      14519|\n|2008|   M|      14606|\n|2008|   F|      20439|\n|2007|   M|      14383|\n|2007|   F|      20548|\n|2006|   M|      14026|\n|2006|   F|      20043|\n|2005|   M|      13358|\n|2005|   F|      19175|\n+----+----+-----------+\nonly showing top 20 rows\n",
					"output_type": "stream"
				}
			]
		},
		{
			"cell_type": "markdown",
			"source": "- Qual foi o nome feminino com mais registro e em que ano?",
			"metadata": {}
		},
		{
			"cell_type": "code",
			"source": "\n# Adicione seu código aqui\nfrom pyspark.sql.functions import desc\ndf_feminino = df.filter(df.sexo == 'F').groupBy('nome').count().orderBy(desc('count')).first()\nnome_feminino, count_feminino = df_feminino[0], df_feminino[1]\nano = df.filter((df.sexo == 'F') & (df.nome == nome_feminino)).groupBy('ano').count().orderBy(desc('count')).first()[0]\nprint(nome_feminino)\nprint(ano)",
			"metadata": {
				"vscode": {
					"languageId": "python_glue_session"
				},
				"trusted": true
			},
			"execution_count": 36,
			"outputs": [
				{
					"name": "stdout",
					"text": "SARAH\n1936\n",
					"output_type": "stream"
				}
			]
		},
		{
			"cell_type": "markdown",
			"source": "- Qual foi o nome masculino com mais registro e em que ano?",
			"metadata": {}
		},
		{
			"cell_type": "code",
			"source": "# Adicione seu código aqui\n\ndf_masculino = df.filter(df.sexo == 'M').groupBy('nome').count().orderBy(desc('count')).first()\nnome_masculino, count_masculino = df_masculino[0], df_masculino[1]\nano_masc = df.filter((df.sexo == 'M') & (df.nome == nome_masculino)).groupBy('ano').count().orderBy(desc('count')).first()[0]\nprint(nome_masculino)\nprint(ano_masc)\n",
			"metadata": {
				"vscode": {
					"languageId": "python_glue_session"
				},
				"trusted": true
			},
			"execution_count": 37,
			"outputs": [
				{
					"name": "stdout",
					"text": "HARRISON\n1955\n",
					"output_type": "stream"
				}
			]
		},
		{
			"cell_type": "markdown",
			"source": "- Apresente o total de registros (masculinos e femininos) para cada ano presente no dataframe. Considere apenas as primeiras 10 linhas, ordenadas pelo ano, de forma crescente.",
			"metadata": {}
		},
		{
			"cell_type": "code",
			"source": "# Adicione seu código aqui\n\nfrom pyspark.sql.functions import asc\ndf_total = df.groupBy('ano', 'sexo').count().orderBy(asc('ano')).limit(10)\ndf_total.show()",
			"metadata": {
				"vscode": {
					"languageId": "python_glue_session"
				},
				"trusted": true
			},
			"execution_count": 38,
			"outputs": [
				{
					"name": "stdout",
					"text": "+----+----+-----+\n| ano|sexo|count|\n+----+----+-----+\n|1880|   M| 1058|\n|1880|   F|  942|\n|1881|   F|  938|\n|1881|   M|  997|\n|1882|   F| 1028|\n|1882|   M| 1099|\n|1883|   M| 1030|\n|1883|   F| 1054|\n|1884|   F| 1172|\n|1884|   M| 1125|\n+----+----+-----+\n",
					"output_type": "stream"
				}
			]
		},
		{
			"cell_type": "markdown",
			"source": "- Escreva o conteúdo do dataframe com os valores de nome em maiúsculo no S3. Atenção aos requisitos:\n  - A gravação deve ocorrer no subdiretório _frequencia_registro_nomes_eua_ do path s3://\\<BUCKET\\>/lab-glue/\n  - O formato deve ser JSON\n  - O particionamento deverá ser realizado pelas colunas _sexo_ e _ano_ (nesta ordem)",
			"metadata": {}
		},
		{
			"cell_type": "code",
			"source": "# Adicione seu código aqui\ndf_json = df.withColumn('nome', upper(df['nome']))\ndf_json.write.partitionBy('sexo', 'ano').json(\"s3://sprint7nomes/lab-glue/frequencia_registro_nomes_eua\")",
			"metadata": {
				"vscode": {
					"languageId": "python_glue_session"
				},
				"trusted": true
			},
			"execution_count": 39,
			"outputs": [
				{
					"name": "stdout",
					"text": "\n",
					"output_type": "stream"
				}
			]
		},
		{
			"cell_type": "code",
			"source": "job.commit()",
			"metadata": {
				"vscode": {
					"languageId": "python_glue_session"
				},
				"trusted": true
			},
			"execution_count": 40,
			"outputs": [
				{
					"name": "stdout",
					"text": "\n",
					"output_type": "stream"
				}
			]
		},
		{
			"cell_type": "code",
			"source": "",
			"metadata": {},
			"execution_count": null,
			"outputs": []
		}
	]
}